{
  "nbformat": 4,
  "nbformat_minor": 0,
  "metadata": {
    "colab": {
      "name": "create and check/compare for null after hashing.ipynb",
      "provenance": [],
      "authorship_tag": "ABX9TyOpGeB7KhIvupQetWMM16nU",
      "include_colab_link": true
    },
    "kernelspec": {
      "name": "python3",
      "display_name": "Python 3"
    },
    "language_info": {
      "name": "python"
    }
  },
  "cells": [
    {
      "cell_type": "markdown",
      "metadata": {
        "id": "view-in-github",
        "colab_type": "text"
      },
      "source": [
        "<a href=\"https://colab.research.google.com/github/niralakumar/first-code/blob/master/create_and_check_compare_for_null_after_hashing.ipynb\" target=\"_parent\"><img src=\"https://colab.research.google.com/assets/colab-badge.svg\" alt=\"Open In Colab\"/></a>"
      ]
    },
    {
      "cell_type": "code",
      "execution_count": 30,
      "metadata": {
        "colab": {
          "base_uri": "https://localhost:8080/"
        },
        "id": "gNGfx9QHOUk2",
        "outputId": "329c9fa3-008a-46d4-d740-328a91f6eeca"
      },
      "outputs": [
        {
          "output_type": "stream",
          "name": "stdout",
          "text": [
            "Requirement already satisfied: pyspark in /usr/local/lib/python3.7/dist-packages (3.2.1)\n",
            "Requirement already satisfied: py4j==0.10.9.3 in /usr/local/lib/python3.7/dist-packages (from pyspark) (0.10.9.3)\n"
          ]
        }
      ],
      "source": [
        "!pip install pyspark"
      ]
    },
    {
      "cell_type": "code",
      "source": [
        "import pyspark\n",
        "from pyspark.sql import SparkSession\n",
        "spark = SparkSession.builder.appName('create marks dataframe').getOrCreate()\n",
        "columns=[\"ExamId\",\"SId\",\"Subject\",\"Marks\",\"Exam Attend date\"]\n",
        "data=[(1,\"1\",\"Maths\",\"89\",\"17-02-2021\"),(2,\"2\",\"Physics\",\"78\",\"18-02-2021\"),(3,\"3\",\"Chemistry\",\"95\",\"19-02-2021\"),\n",
        "      (None,\"4\",\"Biology\",\"86\",\"20-02-2021\"),(5,\"5\",\"English\",\"93\",\"21-02-2021\"),(1,\"2\",\"Maths\",\"81\",\"17-02-2021\"),(2,\"3\",\"Physics\",\"68\",\"18-02-2021\"),\n",
        "      (3,\"4\",\"Chemistry\",\"85\",\"19-02-2021\"),\n",
        "      (None,\"3\",\"Biology\",\"76\",\"20-02-2021\"),(5,\"1\",\"English\",\"83\",\"21-02-2021\")]\n",
        "Df2 = spark.createDataFrame(data=data,schema=columns)\n",
        "\n",
        "Df2.show(truncate=False)\n",
        "Df2.printSchema()"
      ],
      "metadata": {
        "colab": {
          "base_uri": "https://localhost:8080/"
        },
        "id": "sSQjUpo1O3w8",
        "outputId": "eaf27b3a-31ad-4915-b25f-e5427e9be237"
      },
      "execution_count": 31,
      "outputs": [
        {
          "output_type": "stream",
          "name": "stdout",
          "text": [
            "+------+---+---------+-----+----------------+\n",
            "|ExamId|SId|Subject  |Marks|Exam Attend date|\n",
            "+------+---+---------+-----+----------------+\n",
            "|1     |1  |Maths    |89   |17-02-2021      |\n",
            "|2     |2  |Physics  |78   |18-02-2021      |\n",
            "|3     |3  |Chemistry|95   |19-02-2021      |\n",
            "|null  |4  |Biology  |86   |20-02-2021      |\n",
            "|5     |5  |English  |93   |21-02-2021      |\n",
            "|1     |2  |Maths    |81   |17-02-2021      |\n",
            "|2     |3  |Physics  |68   |18-02-2021      |\n",
            "|3     |4  |Chemistry|85   |19-02-2021      |\n",
            "|null  |3  |Biology  |76   |20-02-2021      |\n",
            "|5     |1  |English  |83   |21-02-2021      |\n",
            "+------+---+---------+-----+----------------+\n",
            "\n",
            "root\n",
            " |-- ExamId: long (nullable = true)\n",
            " |-- SId: string (nullable = true)\n",
            " |-- Subject: string (nullable = true)\n",
            " |-- Marks: string (nullable = true)\n",
            " |-- Exam Attend date: string (nullable = true)\n",
            "\n"
          ]
        }
      ]
    },
    {
      "cell_type": "code",
      "source": [
        "spark = SparkSession.builder.appName('create marks2 dataframe').getOrCreate()\n",
        "columns=[\"ExamId\",\"SId\",\"Subject\",\"Marks\",\"Exam_Attend_date\"]\n",
        "data=[(\"1\",\"1\",\"Maths\",\"89\",\"17-02-2021\"),(\"2\",\"2\",\"Physics\",\"78\",\"18-02-2021\"),(\"3\",\"3\",\"Chemistry\",\"95\",\"19-02-2021\"),\n",
        "      (None,\"4\",\"Biology\",\"86\",\"20-02-2021\"),(\"5\",\"5\",\"English\",\"93\",\"21-02-2021\"),(\"1\",\"2\",\"Maths\",\"81\",\"17-02-2021\"),(\"2\",\"3\",\"Physics\",\"68\",\"18-02-2021\"),\n",
        "      (\"3\",\"4\",\"Chemistry\",\"85\",\"19-02-2021\"),\n",
        "      (None,\"3\",None,\"76\",\"20-02-2021\"),(\"5\",\"1\",\"English\",\"83\",\"21-02-2021\")]\n",
        "Df3 = spark.createDataFrame(data=data,schema=columns)\n",
        "\n",
        "Df3.show(truncate=False)\n",
        "Df3.printSchema()"
      ],
      "metadata": {
        "colab": {
          "base_uri": "https://localhost:8080/"
        },
        "id": "OUqEIRc0PbS8",
        "outputId": "fdd288a3-7974-4393-c91f-fb739c961143"
      },
      "execution_count": 52,
      "outputs": [
        {
          "output_type": "stream",
          "name": "stdout",
          "text": [
            "+------+---+---------+-----+----------------+\n",
            "|ExamId|SId|Subject  |Marks|Exam_Attend_date|\n",
            "+------+---+---------+-----+----------------+\n",
            "|1     |1  |Maths    |89   |17-02-2021      |\n",
            "|2     |2  |Physics  |78   |18-02-2021      |\n",
            "|3     |3  |Chemistry|95   |19-02-2021      |\n",
            "|null  |4  |Biology  |86   |20-02-2021      |\n",
            "|5     |5  |English  |93   |21-02-2021      |\n",
            "|1     |2  |Maths    |81   |17-02-2021      |\n",
            "|2     |3  |Physics  |68   |18-02-2021      |\n",
            "|3     |4  |Chemistry|85   |19-02-2021      |\n",
            "|null  |3  |null     |76   |20-02-2021      |\n",
            "|5     |1  |English  |83   |21-02-2021      |\n",
            "+------+---+---------+-----+----------------+\n",
            "\n",
            "root\n",
            " |-- ExamId: string (nullable = true)\n",
            " |-- SId: string (nullable = true)\n",
            " |-- Subject: string (nullable = true)\n",
            " |-- Marks: string (nullable = true)\n",
            " |-- Exam_Attend_date: string (nullable = true)\n",
            "\n"
          ]
        }
      ]
    },
    {
      "cell_type": "code",
      "source": [
        "from pyspark.sql.functions import *\n",
        "marks2 = Df3.withColumn(\"timestamp\",to_timestamp(\"Exam_Attend_date\")) \\\n",
        "  .show()\n",
        "\n",
        "  # this null is coming because my attend date is not in the desired format\n",
        "  "
      ],
      "metadata": {
        "colab": {
          "base_uri": "https://localhost:8080/"
        },
        "id": "owKOaEHKjvqJ",
        "outputId": "8e2ecdba-7830-427f-f691-f4abb739bfa0"
      },
      "execution_count": 54,
      "outputs": [
        {
          "output_type": "stream",
          "name": "stdout",
          "text": [
            "+------+---+---------+-----+----------------+---------+\n",
            "|ExamId|SId|  Subject|Marks|Exam_Attend_date|timestamp|\n",
            "+------+---+---------+-----+----------------+---------+\n",
            "|     1|  1|    Maths|   89|      17-02-2021|     null|\n",
            "|     2|  2|  Physics|   78|      18-02-2021|     null|\n",
            "|     3|  3|Chemistry|   95|      19-02-2021|     null|\n",
            "|  null|  4|  Biology|   86|      20-02-2021|     null|\n",
            "|     5|  5|  English|   93|      21-02-2021|     null|\n",
            "|     1|  2|    Maths|   81|      17-02-2021|     null|\n",
            "|     2|  3|  Physics|   68|      18-02-2021|     null|\n",
            "|     3|  4|Chemistry|   85|      19-02-2021|     null|\n",
            "|  null|  3|     null|   76|      20-02-2021|     null|\n",
            "|     5|  1|  English|   83|      21-02-2021|     null|\n",
            "+------+---+---------+-----+----------------+---------+\n",
            "\n"
          ]
        }
      ]
    },
    {
      "cell_type": "code",
      "source": [
        "# marks.filter((marks.Marks > 85) & (marks.attend_date == '2022-02-24 11:56:45.000')).collect()\n",
        "Df3.filter((Df3.Marks>76) & (Df3.Exam_Attend_date=='19-02-2021')).collect()"
      ],
      "metadata": {
        "colab": {
          "base_uri": "https://localhost:8080/"
        },
        "id": "Z3l9fNyMgauZ",
        "outputId": "decba329-adb0-4cc3-9ae0-3a591bcc1a62"
      },
      "execution_count": 55,
      "outputs": [
        {
          "output_type": "execute_result",
          "data": {
            "text/plain": [
              "[Row(ExamId='3', SId='3', Subject='Chemistry', Marks='95', Exam_Attend_date='19-02-2021'),\n",
              " Row(ExamId='3', SId='4', Subject='Chemistry', Marks='85', Exam_Attend_date='19-02-2021')]"
            ]
          },
          "metadata": {},
          "execution_count": 55
        }
      ]
    },
    {
      "cell_type": "code",
      "source": [
        "from pyspark.sql.functions import md5, concat_ws\n",
        "Df2 = Df2.withColumn(\"md5\", md5(concat_ws(\"\",Df2.ExamId)))\n",
        "Df2.show(truncate=False)"
      ],
      "metadata": {
        "colab": {
          "base_uri": "https://localhost:8080/"
        },
        "id": "FGXcNJFxSl95",
        "outputId": "eaf7a3fa-5488-4c56-a5ad-83187269dc10"
      },
      "execution_count": 35,
      "outputs": [
        {
          "output_type": "stream",
          "name": "stdout",
          "text": [
            "+------+---+---------+-----+----------------+--------------------------------+\n",
            "|ExamId|SId|Subject  |Marks|Exam Attend date|md5                             |\n",
            "+------+---+---------+-----+----------------+--------------------------------+\n",
            "|1     |1  |Maths    |89   |17-02-2021      |c4ca4238a0b923820dcc509a6f75849b|\n",
            "|2     |2  |Physics  |78   |18-02-2021      |c81e728d9d4c2f636f067f89cc14862c|\n",
            "|3     |3  |Chemistry|95   |19-02-2021      |eccbc87e4b5ce2fe28308fd9f2a7baf3|\n",
            "|null  |4  |Biology  |86   |20-02-2021      |d41d8cd98f00b204e9800998ecf8427e|\n",
            "|5     |5  |English  |93   |21-02-2021      |e4da3b7fbbce2345d7772b0674a318d5|\n",
            "|1     |2  |Maths    |81   |17-02-2021      |c4ca4238a0b923820dcc509a6f75849b|\n",
            "|2     |3  |Physics  |68   |18-02-2021      |c81e728d9d4c2f636f067f89cc14862c|\n",
            "|3     |4  |Chemistry|85   |19-02-2021      |eccbc87e4b5ce2fe28308fd9f2a7baf3|\n",
            "|null  |3  |Biology  |76   |20-02-2021      |d41d8cd98f00b204e9800998ecf8427e|\n",
            "|5     |1  |English  |83   |21-02-2021      |e4da3b7fbbce2345d7772b0674a318d5|\n",
            "+------+---+---------+-----+----------------+--------------------------------+\n",
            "\n"
          ]
        }
      ]
    },
    {
      "cell_type": "code",
      "source": [
        "from pyspark.sql.functions import md5, concat_ws\n",
        "Df3 = Df3.withColumn(\"md5\", md5(concat_ws(\"\",Df3.ExamId)))\n",
        "Df3.show(truncate=False)"
      ],
      "metadata": {
        "colab": {
          "base_uri": "https://localhost:8080/"
        },
        "id": "CgUMIvzaTBsl",
        "outputId": "efd68253-b4c5-4011-d97e-0332f7144007"
      },
      "execution_count": 36,
      "outputs": [
        {
          "output_type": "stream",
          "name": "stdout",
          "text": [
            "+------+---+---------+-----+----------------+--------------------------------+\n",
            "|ExamId|SId|Subject  |Marks|Exam Attend date|md5                             |\n",
            "+------+---+---------+-----+----------------+--------------------------------+\n",
            "|1     |1  |Maths    |89   |17-02-2021      |c4ca4238a0b923820dcc509a6f75849b|\n",
            "|2     |2  |Physics  |78   |18-02-2021      |c81e728d9d4c2f636f067f89cc14862c|\n",
            "|3     |3  |Chemistry|95   |19-02-2021      |eccbc87e4b5ce2fe28308fd9f2a7baf3|\n",
            "|null  |4  |Biology  |86   |20-02-2021      |d41d8cd98f00b204e9800998ecf8427e|\n",
            "|5     |5  |English  |93   |21-02-2021      |e4da3b7fbbce2345d7772b0674a318d5|\n",
            "|1     |2  |Maths    |81   |17-02-2021      |c4ca4238a0b923820dcc509a6f75849b|\n",
            "|2     |3  |Physics  |68   |18-02-2021      |c81e728d9d4c2f636f067f89cc14862c|\n",
            "|3     |4  |Chemistry|85   |19-02-2021      |eccbc87e4b5ce2fe28308fd9f2a7baf3|\n",
            "|null  |3  |null     |76   |20-02-2021      |d41d8cd98f00b204e9800998ecf8427e|\n",
            "|5     |1  |English  |83   |21-02-2021      |e4da3b7fbbce2345d7772b0674a318d5|\n",
            "+------+---+---------+-----+----------------+--------------------------------+\n",
            "\n"
          ]
        }
      ]
    },
    {
      "cell_type": "code",
      "source": [
        "from pyspark.sql.functions import md5, concat_ws\n",
        "Df3 = Df3.withColumn(\"md5\", md5(concat_ws(\"\",Df3.Subject)))\n",
        "Df3.show(truncate=False)"
      ],
      "metadata": {
        "colab": {
          "base_uri": "https://localhost:8080/"
        },
        "id": "nycO3q_ZUG_E",
        "outputId": "22d59080-7c76-454c-eb72-8970ee1a22be"
      },
      "execution_count": 37,
      "outputs": [
        {
          "output_type": "stream",
          "name": "stdout",
          "text": [
            "+------+---+---------+-----+----------------+--------------------------------+\n",
            "|ExamId|SId|Subject  |Marks|Exam Attend date|md5                             |\n",
            "+------+---+---------+-----+----------------+--------------------------------+\n",
            "|1     |1  |Maths    |89   |17-02-2021      |bdca469f0a21435d2d2a030df8259883|\n",
            "|2     |2  |Physics  |78   |18-02-2021      |50ae99e9c35446c2580e4b540b0fd104|\n",
            "|3     |3  |Chemistry|95   |19-02-2021      |84cf6008945c9b558ed7c0869557b70d|\n",
            "|null  |4  |Biology  |86   |20-02-2021      |9470ddec893781ea65f1a2b71ae5e01c|\n",
            "|5     |5  |English  |93   |21-02-2021      |78463a384a5aa4fad5fa73e2f506ecfc|\n",
            "|1     |2  |Maths    |81   |17-02-2021      |bdca469f0a21435d2d2a030df8259883|\n",
            "|2     |3  |Physics  |68   |18-02-2021      |50ae99e9c35446c2580e4b540b0fd104|\n",
            "|3     |4  |Chemistry|85   |19-02-2021      |84cf6008945c9b558ed7c0869557b70d|\n",
            "|null  |3  |null     |76   |20-02-2021      |d41d8cd98f00b204e9800998ecf8427e|\n",
            "|5     |1  |English  |83   |21-02-2021      |78463a384a5aa4fad5fa73e2f506ecfc|\n",
            "+------+---+---------+-----+----------------+--------------------------------+\n",
            "\n"
          ]
        }
      ]
    },
    {
      "cell_type": "code",
      "source": [
        ""
      ],
      "metadata": {
        "id": "2nUcd-pcWeuo"
      },
      "execution_count": 37,
      "outputs": []
    }
  ]
}