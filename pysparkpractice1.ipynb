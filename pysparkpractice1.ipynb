{
  "nbformat": 4,
  "nbformat_minor": 0,
  "metadata": {
    "colab": {
      "name": "pysparkpractice1.ipynb",
      "provenance": [],
      "authorship_tag": "ABX9TyMQaXsxiyjWsAowI7YjoxeL"
    },
    "kernelspec": {
      "name": "python3",
      "display_name": "Python 3"
    },
    "language_info": {
      "name": "python"
    }
  },
  "cells": [
    {
      "cell_type": "code",
      "execution_count": 1,
      "metadata": {
        "colab": {
          "base_uri": "https://localhost:8080/"
        },
        "id": "hy-MK7gOfkSK",
        "outputId": "bde8c5b6-5857-4890-8907-ed449187028c"
      },
      "outputs": [
        {
          "output_type": "stream",
          "name": "stdout",
          "text": [
            "Collecting pyspark\n",
            "  Downloading pyspark-3.2.1.tar.gz (281.4 MB)\n",
            "\u001b[K     |████████████████████████████████| 281.4 MB 35 kB/s \n",
            "\u001b[?25hCollecting py4j==0.10.9.3\n",
            "  Downloading py4j-0.10.9.3-py2.py3-none-any.whl (198 kB)\n",
            "\u001b[K     |████████████████████████████████| 198 kB 47.5 MB/s \n",
            "\u001b[?25hBuilding wheels for collected packages: pyspark\n",
            "  Building wheel for pyspark (setup.py) ... \u001b[?25l\u001b[?25hdone\n",
            "  Created wheel for pyspark: filename=pyspark-3.2.1-py2.py3-none-any.whl size=281853642 sha256=94d24969f7c5604cc504e304a50dded5b64bb39bf40e333755f971de5c71586a\n",
            "  Stored in directory: /root/.cache/pip/wheels/9f/f5/07/7cd8017084dce4e93e84e92efd1e1d5334db05f2e83bcef74f\n",
            "Successfully built pyspark\n",
            "Installing collected packages: py4j, pyspark\n",
            "Successfully installed py4j-0.10.9.3 pyspark-3.2.1\n"
          ]
        }
      ],
      "source": [
        "!pip install pyspark"
      ]
    },
    {
      "cell_type": "code",
      "source": [
        "import pyspark"
      ],
      "metadata": {
        "id": "IJl13H3hgZaF"
      },
      "execution_count": 2,
      "outputs": []
    },
    {
      "cell_type": "code",
      "source": [
        "from pyspark.sql import SparkSession\n",
        "spark=SparkSession.builder.appName(\"try spark\").getOrCreate()\n",
        "spark"
      ],
      "metadata": {
        "colab": {
          "base_uri": "https://localhost:8080/",
          "height": 219
        },
        "id": "Pe7apTzIgtML",
        "outputId": "6cece0c2-dbc1-46e8-a871-3ca18dbe266d"
      },
      "execution_count": 3,
      "outputs": [
        {
          "output_type": "execute_result",
          "data": {
            "text/html": [
              "\n",
              "            <div>\n",
              "                <p><b>SparkSession - in-memory</b></p>\n",
              "                \n",
              "        <div>\n",
              "            <p><b>SparkContext</b></p>\n",
              "\n",
              "            <p><a href=\"http://3851477b7bc5:4040\">Spark UI</a></p>\n",
              "\n",
              "            <dl>\n",
              "              <dt>Version</dt>\n",
              "                <dd><code>v3.2.1</code></dd>\n",
              "              <dt>Master</dt>\n",
              "                <dd><code>local[*]</code></dd>\n",
              "              <dt>AppName</dt>\n",
              "                <dd><code>try spark</code></dd>\n",
              "            </dl>\n",
              "        </div>\n",
              "        \n",
              "            </div>\n",
              "        "
            ],
            "text/plain": [
              "<pyspark.sql.session.SparkSession at 0x7fa52f41f4d0>"
            ]
          },
          "metadata": {},
          "execution_count": 3
        }
      ]
    },
    {
      "cell_type": "code",
      "source": [
        "df=spark.read.csv('/content/niralaprac1.csv',header=True,inferSchema=True)\n",
        "                                # this header=True part helps us to remove the column of the csv fie \n",
        "                                #  this inferSchema =True helps us in identifying the datatype when we find the data type using printSchema function below\n",
        "df.show()"
      ],
      "metadata": {
        "colab": {
          "base_uri": "https://localhost:8080/"
        },
        "id": "BEglS8eRhr2L",
        "outputId": "890c0831-b9ca-4f2f-acce-63c1914b314a"
      },
      "execution_count": 4,
      "outputs": [
        {
          "output_type": "stream",
          "name": "stdout",
          "text": [
            "+---+----+-----+----+\n",
            "|rno|name|marks|rank|\n",
            "+---+----+-----+----+\n",
            "|  1|  AK|   78|  11|\n",
            "|  2|  BK|   76|  12|\n",
            "|  3|  CK|   56|  13|\n",
            "|  4|  DK|   79|  10|\n",
            "|  5|  EK|   89|   1|\n",
            "+---+----+-----+----+\n",
            "\n"
          ]
        }
      ]
    },
    {
      "cell_type": "code",
      "source": [
        "\n",
        "df.head(3)"
      ],
      "metadata": {
        "colab": {
          "base_uri": "https://localhost:8080/"
        },
        "id": "oqdWEikZiWWM",
        "outputId": "8c0de241-517d-4799-a954-f78900de896d"
      },
      "execution_count": 5,
      "outputs": [
        {
          "output_type": "execute_result",
          "data": {
            "text/plain": [
              "[Row(rno=1, name='AK', marks=78, rank=11),\n",
              " Row(rno=2, name='BK', marks=76, rank=12),\n",
              " Row(rno=3, name='CK', marks=56, rank=13)]"
            ]
          },
          "metadata": {},
          "execution_count": 5
        }
      ]
    },
    {
      "cell_type": "code",
      "source": [
        "df.printSchema()"
      ],
      "metadata": {
        "colab": {
          "base_uri": "https://localhost:8080/"
        },
        "id": "qQZZ1cOqiY1e",
        "outputId": "50f40c24-c784-449e-c454-cc952b80a5cc"
      },
      "execution_count": 6,
      "outputs": [
        {
          "output_type": "stream",
          "name": "stdout",
          "text": [
            "root\n",
            " |-- rno: integer (nullable = true)\n",
            " |-- name: string (nullable = true)\n",
            " |-- marks: integer (nullable = true)\n",
            " |-- rank: integer (nullable = true)\n",
            "\n"
          ]
        }
      ]
    },
    {
      "cell_type": "code",
      "source": [
        "df.columns"
      ],
      "metadata": {
        "colab": {
          "base_uri": "https://localhost:8080/"
        },
        "id": "8NM-R4WVi2r9",
        "outputId": "522bd8e4-47c5-4ea0-c208-71b785ab63f2"
      },
      "execution_count": 7,
      "outputs": [
        {
          "output_type": "execute_result",
          "data": {
            "text/plain": [
              "['rno', 'name', 'marks', 'rank']"
            ]
          },
          "metadata": {},
          "execution_count": 7
        }
      ]
    },
    {
      "cell_type": "code",
      "source": [
        "df.select([\"name\",\"rno\"]).show()\n",
        "# upper can also be done this way\n",
        "# df.select(\"name\",\"rno\").show()"
      ],
      "metadata": {
        "colab": {
          "base_uri": "https://localhost:8080/"
        },
        "id": "wE1TtbO5lAhN",
        "outputId": "8401f72d-977e-415d-80da-4f95e34b7cfa"
      },
      "execution_count": 8,
      "outputs": [
        {
          "output_type": "stream",
          "name": "stdout",
          "text": [
            "+----+---+\n",
            "|name|rno|\n",
            "+----+---+\n",
            "|  AK|  1|\n",
            "|  BK|  2|\n",
            "|  CK|  3|\n",
            "|  DK|  4|\n",
            "|  EK|  5|\n",
            "+----+---+\n",
            "\n"
          ]
        }
      ]
    },
    {
      "cell_type": "code",
      "source": [
        "df.dtypes"
      ],
      "metadata": {
        "colab": {
          "base_uri": "https://localhost:8080/"
        },
        "id": "SLbZCuh6jSn5",
        "outputId": "39170c4e-eb3f-4417-a461-b14ac141121d"
      },
      "execution_count": 9,
      "outputs": [
        {
          "output_type": "execute_result",
          "data": {
            "text/plain": [
              "[('rno', 'int'), ('name', 'string'), ('marks', 'int'), ('rank', 'int')]"
            ]
          },
          "metadata": {},
          "execution_count": 9
        }
      ]
    },
    {
      "cell_type": "code",
      "source": [
        "df.describe().show()"
      ],
      "metadata": {
        "colab": {
          "base_uri": "https://localhost:8080/"
        },
        "id": "4X2jYHxll4Ea",
        "outputId": "136b455b-41de-45f1-ce83-ba7622e966fb"
      },
      "execution_count": 10,
      "outputs": [
        {
          "output_type": "stream",
          "name": "stdout",
          "text": [
            "+-------+------------------+----+------------------+------------------+\n",
            "|summary|               rno|name|             marks|              rank|\n",
            "+-------+------------------+----+------------------+------------------+\n",
            "|  count|                 5|   5|                 5|                 5|\n",
            "|   mean|               3.0|null|              75.6|               9.4|\n",
            "| stddev|1.5811388300841898|null|12.054044964243332|4.8270073544588685|\n",
            "|    min|                 1|  AK|                56|                 1|\n",
            "|    max|                 5|  EK|                89|                13|\n",
            "+-------+------------------+----+------------------+------------------+\n",
            "\n"
          ]
        }
      ]
    },
    {
      "cell_type": "code",
      "source": [
        "# add column in dataframe\n",
        "df1=df.withColumn('updated result',df['rank']+2)\n",
        "df1.show()\n",
        "df.show()"
      ],
      "metadata": {
        "colab": {
          "base_uri": "https://localhost:8080/"
        },
        "id": "EtLqrWPhmD_5",
        "outputId": "7fb8315f-6982-41c0-90e7-98ab590f94ea"
      },
      "execution_count": 11,
      "outputs": [
        {
          "output_type": "stream",
          "name": "stdout",
          "text": [
            "+---+----+-----+----+--------------+\n",
            "|rno|name|marks|rank|updated result|\n",
            "+---+----+-----+----+--------------+\n",
            "|  1|  AK|   78|  11|            13|\n",
            "|  2|  BK|   76|  12|            14|\n",
            "|  3|  CK|   56|  13|            15|\n",
            "|  4|  DK|   79|  10|            12|\n",
            "|  5|  EK|   89|   1|             3|\n",
            "+---+----+-----+----+--------------+\n",
            "\n",
            "+---+----+-----+----+\n",
            "|rno|name|marks|rank|\n",
            "+---+----+-----+----+\n",
            "|  1|  AK|   78|  11|\n",
            "|  2|  BK|   76|  12|\n",
            "|  3|  CK|   56|  13|\n",
            "|  4|  DK|   79|  10|\n",
            "|  5|  EK|   89|   1|\n",
            "+---+----+-----+----+\n",
            "\n"
          ]
        }
      ]
    },
    {
      "cell_type": "code",
      "source": [
        "# drop column\n",
        "df1.drop('updated result').show()"
      ],
      "metadata": {
        "colab": {
          "base_uri": "https://localhost:8080/"
        },
        "id": "ChVD4ytAmxXb",
        "outputId": "92e987ca-9101-4551-a5be-f21e23b6b962"
      },
      "execution_count": 12,
      "outputs": [
        {
          "output_type": "stream",
          "name": "stdout",
          "text": [
            "+---+----+-----+----+\n",
            "|rno|name|marks|rank|\n",
            "+---+----+-----+----+\n",
            "|  1|  AK|   78|  11|\n",
            "|  2|  BK|   76|  12|\n",
            "|  3|  CK|   56|  13|\n",
            "|  4|  DK|   79|  10|\n",
            "|  5|  EK|   89|   1|\n",
            "+---+----+-----+----+\n",
            "\n"
          ]
        }
      ]
    },
    {
      "cell_type": "code",
      "source": [
        "# rename column\n",
        "df2=df.withColumnRenamed('name','Name')\n",
        "df2.show()\n",
        "df.show()"
      ],
      "metadata": {
        "colab": {
          "base_uri": "https://localhost:8080/"
        },
        "id": "f7FcPUOdnK7a",
        "outputId": "f25e6331-3433-4868-a63e-f80e50df157e"
      },
      "execution_count": 13,
      "outputs": [
        {
          "output_type": "stream",
          "name": "stdout",
          "text": [
            "+---+----+-----+----+\n",
            "|rno|Name|marks|rank|\n",
            "+---+----+-----+----+\n",
            "|  1|  AK|   78|  11|\n",
            "|  2|  BK|   76|  12|\n",
            "|  3|  CK|   56|  13|\n",
            "|  4|  DK|   79|  10|\n",
            "|  5|  EK|   89|   1|\n",
            "+---+----+-----+----+\n",
            "\n",
            "+---+----+-----+----+\n",
            "|rno|name|marks|rank|\n",
            "+---+----+-----+----+\n",
            "|  1|  AK|   78|  11|\n",
            "|  2|  BK|   76|  12|\n",
            "|  3|  CK|   56|  13|\n",
            "|  4|  DK|   79|  10|\n",
            "|  5|  EK|   89|   1|\n",
            "+---+----+-----+----+\n",
            "\n"
          ]
        }
      ]
    },
    {
      "cell_type": "code",
      "source": [
        "# drop row\n",
        "df.na.drop().show() \n",
        "# this will help in check if any null value in row is present and drop that row null\n"
      ],
      "metadata": {
        "colab": {
          "base_uri": "https://localhost:8080/"
        },
        "id": "OaF66q5Mn4tP",
        "outputId": "36a1d475-6cda-4172-c014-7957cad4c368"
      },
      "execution_count": 14,
      "outputs": [
        {
          "output_type": "stream",
          "name": "stdout",
          "text": [
            "+---+----+-----+----+\n",
            "|rno|name|marks|rank|\n",
            "+---+----+-----+----+\n",
            "|  1|  AK|   78|  11|\n",
            "|  2|  BK|   76|  12|\n",
            "|  3|  CK|   56|  13|\n",
            "|  4|  DK|   79|  10|\n",
            "|  5|  EK|   89|   1|\n",
            "+---+----+-----+----+\n",
            "\n"
          ]
        }
      ]
    },
    {
      "cell_type": "code",
      "source": [
        "# fill any misssing value\n",
        "df.na.fill(\"missing value\").show()\n",
        "# this will fill any nullvalue with typed \"missing value\"\n",
        "# we can also try using this in any prticular olun as well\n",
        "# like this\n",
        "# df.na.fill('missing value',['rno','name']).show()    \n",
        "# in this way it will implement only for these two coluns"
      ],
      "metadata": {
        "colab": {
          "base_uri": "https://localhost:8080/"
        },
        "id": "YmikXP16paQC",
        "outputId": "e167faec-3d77-489a-f597-3860b7a88906"
      },
      "execution_count": 15,
      "outputs": [
        {
          "output_type": "stream",
          "name": "stdout",
          "text": [
            "+---+----+-----+----+\n",
            "|rno|name|marks|rank|\n",
            "+---+----+-----+----+\n",
            "|  1|  AK|   78|  11|\n",
            "|  2|  BK|   76|  12|\n",
            "|  3|  CK|   56|  13|\n",
            "|  4|  DK|   79|  10|\n",
            "|  5|  EK|   89|   1|\n",
            "+---+----+-----+----+\n",
            "\n"
          ]
        }
      ]
    },
    {
      "cell_type": "code",
      "source": [
        "# filter operations\n",
        "# marks>=76\n",
        "df3=df.filter(\"marks>=76\")\n",
        "df3.show()\n",
        "df4=df.filter(\"marks>76\").select([\"name\",'rno'])\n",
        "df4.show()\n"
      ],
      "metadata": {
        "colab": {
          "base_uri": "https://localhost:8080/"
        },
        "id": "zqgE5Iu1rL6Q",
        "outputId": "4cb24e82-627b-408c-9f23-b66e89c1b26c"
      },
      "execution_count": 16,
      "outputs": [
        {
          "output_type": "stream",
          "name": "stdout",
          "text": [
            "+---+----+-----+----+\n",
            "|rno|name|marks|rank|\n",
            "+---+----+-----+----+\n",
            "|  1|  AK|   78|  11|\n",
            "|  2|  BK|   76|  12|\n",
            "|  4|  DK|   79|  10|\n",
            "|  5|  EK|   89|   1|\n",
            "+---+----+-----+----+\n",
            "\n",
            "+----+---+\n",
            "|name|rno|\n",
            "+----+---+\n",
            "|  AK|  1|\n",
            "|  DK|  4|\n",
            "|  EK|  5|\n",
            "+----+---+\n",
            "\n"
          ]
        }
      ]
    },
    {
      "cell_type": "code",
      "source": [
        "df4=df.filter((df['marks']<68) & (df[\"marks\"]>50))\n",
        "df4.show()"
      ],
      "metadata": {
        "colab": {
          "base_uri": "https://localhost:8080/"
        },
        "id": "psZI_f8s01WZ",
        "outputId": "d8f6c863-29ea-420d-cff2-1064aab0afe4"
      },
      "execution_count": 17,
      "outputs": [
        {
          "output_type": "stream",
          "name": "stdout",
          "text": [
            "+---+----+-----+----+\n",
            "|rno|name|marks|rank|\n",
            "+---+----+-----+----+\n",
            "|  3|  CK|   56|  13|\n",
            "+---+----+-----+----+\n",
            "\n"
          ]
        }
      ]
    },
    {
      "cell_type": "code",
      "source": [
        "# group by\n",
        "df.groupBy('name').mean().show()\n",
        "df.groupBy('name').count().show()"
      ],
      "metadata": {
        "colab": {
          "base_uri": "https://localhost:8080/"
        },
        "id": "NpvLQ-JZ1bcV",
        "outputId": "7d9ed057-8f79-4283-9b6a-9e601ee87951"
      },
      "execution_count": 18,
      "outputs": [
        {
          "output_type": "stream",
          "name": "stdout",
          "text": [
            "+----+--------+----------+---------+\n",
            "|name|avg(rno)|avg(marks)|avg(rank)|\n",
            "+----+--------+----------+---------+\n",
            "|  EK|     5.0|      89.0|      1.0|\n",
            "|  CK|     3.0|      56.0|     13.0|\n",
            "|  BK|     2.0|      76.0|     12.0|\n",
            "|  AK|     1.0|      78.0|     11.0|\n",
            "|  DK|     4.0|      79.0|     10.0|\n",
            "+----+--------+----------+---------+\n",
            "\n",
            "+----+-----+\n",
            "|name|count|\n",
            "+----+-----+\n",
            "|  EK|    1|\n",
            "|  CK|    1|\n",
            "|  BK|    1|\n",
            "|  AK|    1|\n",
            "|  DK|    1|\n",
            "+----+-----+\n",
            "\n"
          ]
        }
      ]
    },
    {
      "cell_type": "code",
      "source": [
        "df.show()"
      ],
      "metadata": {
        "id": "L2si9n252gzx",
        "colab": {
          "base_uri": "https://localhost:8080/"
        },
        "outputId": "944f860d-afee-44f0-d718-0204159051bd"
      },
      "execution_count": 19,
      "outputs": [
        {
          "output_type": "stream",
          "name": "stdout",
          "text": [
            "+---+----+-----+----+\n",
            "|rno|name|marks|rank|\n",
            "+---+----+-----+----+\n",
            "|  1|  AK|   78|  11|\n",
            "|  2|  BK|   76|  12|\n",
            "|  3|  CK|   56|  13|\n",
            "|  4|  DK|   79|  10|\n",
            "|  5|  EK|   89|   1|\n",
            "+---+----+-----+----+\n",
            "\n"
          ]
        }
      ]
    },
    {
      "cell_type": "code",
      "source": [
        "from pyspark.sql.functions import *\n",
        "df2=df.select(concat_ws(\" \",df.rno,df.name,df.marks,df.rank)\n",
        "              .alias(\"Fulldetails\"))\n",
        "df2.show(truncate=False)"
      ],
      "metadata": {
        "colab": {
          "base_uri": "https://localhost:8080/"
        },
        "id": "1raRF2Ibtqid",
        "outputId": "56390499-9bcd-48f1-edcc-0cb9687e1491"
      },
      "execution_count": 20,
      "outputs": [
        {
          "output_type": "stream",
          "name": "stdout",
          "text": [
            "+-----------+\n",
            "|Fulldetails|\n",
            "+-----------+\n",
            "|1 AK 78 11 |\n",
            "|2 BK 76 12 |\n",
            "|3 CK 56 13 |\n",
            "|4 DK 79 10 |\n",
            "|5 EK 89 1  |\n",
            "+-----------+\n",
            "\n"
          ]
        }
      ]
    },
    {
      "cell_type": "code",
      "source": [
        "rdd=df2.rdd\n",
        "print(rdd.collect())\n",
        "\n",
        "# trying to implement map and flatmap function\n",
        "# first we have to convert dataframe in rdd and then use map or flatmap function\n",
        "\n"
      ],
      "metadata": {
        "colab": {
          "base_uri": "https://localhost:8080/"
        },
        "id": "lFCMMlfzCzNc",
        "outputId": "26692f95-e25e-43c4-bd54-6dd6e7f5de7d"
      },
      "execution_count": 21,
      "outputs": [
        {
          "output_type": "stream",
          "name": "stdout",
          "text": [
            "[Row(Fulldetails='1 AK 78 11'), Row(Fulldetails='2 BK 76 12'), Row(Fulldetails='3 CK 56 13'), Row(Fulldetails='4 DK 79 10'), Row(Fulldetails='5 EK 89 1')]\n"
          ]
        }
      ]
    },
    {
      "cell_type": "code",
      "source": [
        "print(rdd.map(lambda x: x.Fulldetails))"
      ],
      "metadata": {
        "colab": {
          "base_uri": "https://localhost:8080/"
        },
        "id": "xveVZMHJDHQ5",
        "outputId": "07492d4e-c71a-4f7d-edf9-ddde20ccd20d"
      },
      "execution_count": 22,
      "outputs": [
        {
          "output_type": "stream",
          "name": "stdout",
          "text": [
            "PythonRDD[96] at RDD at PythonRDD.scala:53\n"
          ]
        }
      ]
    },
    {
      "cell_type": "code",
      "source": [
        "result = rdd.map(lambda x: x.Fulldetails).collect()\n",
        "\n",
        "result"
      ],
      "metadata": {
        "colab": {
          "base_uri": "https://localhost:8080/"
        },
        "id": "RTQaexsADLNf",
        "outputId": "3b50a1ef-f698-473e-88c7-3ab6f1ce9ce8"
      },
      "execution_count": 23,
      "outputs": [
        {
          "output_type": "execute_result",
          "data": {
            "text/plain": [
              "['1 AK 78 11', '2 BK 76 12', '3 CK 56 13', '4 DK 79 10', '5 EK 89 1']"
            ]
          },
          "metadata": {},
          "execution_count": 23
        }
      ]
    },
    {
      "cell_type": "code",
      "source": [
        "rdd1=spark.sparkContext.parallelize(result)\n",
        "for element in rdd1.collect():\n",
        "    print(element)"
      ],
      "metadata": {
        "colab": {
          "base_uri": "https://localhost:8080/"
        },
        "id": "1ZkYGEByDOzv",
        "outputId": "b6151604-db85-431e-d3ce-f789d684a9a6"
      },
      "execution_count": 24,
      "outputs": [
        {
          "output_type": "stream",
          "name": "stdout",
          "text": [
            "1 AK 78 11\n",
            "2 BK 76 12\n",
            "3 CK 56 13\n",
            "4 DK 79 10\n",
            "5 EK 89 1\n"
          ]
        }
      ]
    },
    {
      "cell_type": "code",
      "source": [
        "rdd2=rdd1.flatMap(lambda x: x.split(\" \"))\n",
        "for element in rdd2.collect():\n",
        "    print(element)"
      ],
      "metadata": {
        "colab": {
          "base_uri": "https://localhost:8080/"
        },
        "id": "GV8KKBQUDXzR",
        "outputId": "b39cc896-d007-49af-b288-3a77d192fd84"
      },
      "execution_count": 25,
      "outputs": [
        {
          "output_type": "stream",
          "name": "stdout",
          "text": [
            "1\n",
            "AK\n",
            "78\n",
            "11\n",
            "2\n",
            "BK\n",
            "76\n",
            "12\n",
            "3\n",
            "CK\n",
            "56\n",
            "13\n",
            "4\n",
            "DK\n",
            "79\n",
            "10\n",
            "5\n",
            "EK\n",
            "89\n",
            "1\n"
          ]
        }
      ]
    },
    {
      "cell_type": "code",
      "source": [
        "rdd2.count()"
      ],
      "metadata": {
        "colab": {
          "base_uri": "https://localhost:8080/"
        },
        "id": "lDnSgBFBDjJS",
        "outputId": "c2cbf8d0-c863-45a7-8bdf-40f3ff470553"
      },
      "execution_count": 26,
      "outputs": [
        {
          "output_type": "execute_result",
          "data": {
            "text/plain": [
              "20"
            ]
          },
          "metadata": {},
          "execution_count": 26
        }
      ]
    },
    {
      "cell_type": "code",
      "source": [
        "type(rdd2)"
      ],
      "metadata": {
        "colab": {
          "base_uri": "https://localhost:8080/"
        },
        "id": "mol5DdDtDnpP",
        "outputId": "105c6c5b-f627-4b83-bc20-e952044771eb"
      },
      "execution_count": 27,
      "outputs": [
        {
          "output_type": "execute_result",
          "data": {
            "text/plain": [
              "pyspark.rdd.PipelinedRDD"
            ]
          },
          "metadata": {},
          "execution_count": 27
        }
      ]
    }
  ]
}