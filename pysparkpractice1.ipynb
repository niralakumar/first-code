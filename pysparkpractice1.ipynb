{
  "nbformat": 4,
  "nbformat_minor": 0,
  "metadata": {
    "colab": {
      "name": "pysparkpractice1.ipynb",
      "provenance": [],
      "authorship_tag": "ABX9TyNXnXqgizoFPdWk9ii30pqU"
    },
    "kernelspec": {
      "name": "python3",
      "display_name": "Python 3"
    },
    "language_info": {
      "name": "python"
    }
  },
  "cells": [
    {
      "cell_type": "code",
      "execution_count": 1,
      "metadata": {
        "colab": {
          "base_uri": "https://localhost:8080/"
        },
        "id": "hy-MK7gOfkSK",
        "outputId": "fde88330-4ebd-4497-cde4-719f02c57760"
      },
      "outputs": [
        {
          "output_type": "stream",
          "name": "stdout",
          "text": [
            "Collecting pyspark\n",
            "  Downloading pyspark-3.2.1.tar.gz (281.4 MB)\n",
            "\u001b[K     |████████████████████████████████| 281.4 MB 33 kB/s \n",
            "\u001b[?25hCollecting py4j==0.10.9.3\n",
            "  Downloading py4j-0.10.9.3-py2.py3-none-any.whl (198 kB)\n",
            "\u001b[K     |████████████████████████████████| 198 kB 51.5 MB/s \n",
            "\u001b[?25hBuilding wheels for collected packages: pyspark\n",
            "  Building wheel for pyspark (setup.py) ... \u001b[?25l\u001b[?25hdone\n",
            "  Created wheel for pyspark: filename=pyspark-3.2.1-py2.py3-none-any.whl size=281853642 sha256=331c56dd5592999d1693d511af7518a79d63f8d4781b2b671cae3fd7f4d9e2da\n",
            "  Stored in directory: /root/.cache/pip/wheels/9f/f5/07/7cd8017084dce4e93e84e92efd1e1d5334db05f2e83bcef74f\n",
            "Successfully built pyspark\n",
            "Installing collected packages: py4j, pyspark\n",
            "Successfully installed py4j-0.10.9.3 pyspark-3.2.1\n"
          ]
        }
      ],
      "source": [
        "!pip install pyspark"
      ]
    },
    {
      "cell_type": "code",
      "source": [
        "import pyspark"
      ],
      "metadata": {
        "id": "IJl13H3hgZaF"
      },
      "execution_count": 2,
      "outputs": []
    },
    {
      "cell_type": "code",
      "source": [
        "from pyspark.sql import SparkSession\n",
        "spark=SparkSession.builder.appName(\"try spark\").getOrCreate()\n",
        "spark"
      ],
      "metadata": {
        "colab": {
          "base_uri": "https://localhost:8080/",
          "height": 219
        },
        "id": "Pe7apTzIgtML",
        "outputId": "069282dc-c116-42a9-d92e-602c295458cf"
      },
      "execution_count": 3,
      "outputs": [
        {
          "output_type": "execute_result",
          "data": {
            "text/html": [
              "\n",
              "            <div>\n",
              "                <p><b>SparkSession - in-memory</b></p>\n",
              "                \n",
              "        <div>\n",
              "            <p><b>SparkContext</b></p>\n",
              "\n",
              "            <p><a href=\"http://86d7d3d8f87e:4040\">Spark UI</a></p>\n",
              "\n",
              "            <dl>\n",
              "              <dt>Version</dt>\n",
              "                <dd><code>v3.2.1</code></dd>\n",
              "              <dt>Master</dt>\n",
              "                <dd><code>local[*]</code></dd>\n",
              "              <dt>AppName</dt>\n",
              "                <dd><code>try spark</code></dd>\n",
              "            </dl>\n",
              "        </div>\n",
              "        \n",
              "            </div>\n",
              "        "
            ],
            "text/plain": [
              "<pyspark.sql.session.SparkSession at 0x7f5f51e1ecd0>"
            ]
          },
          "metadata": {},
          "execution_count": 3
        }
      ]
    },
    {
      "cell_type": "code",
      "source": [
        "df=spark.read.csv('/content/niralaprac1.csv',header=True,inferSchema=True)\n",
        "                                # this header=True part helps us to remove the column of the csv fie \n",
        "                                #  this inferSchema =True helps us in identifying the datatype when we find the data type using printSchema function below\n",
        "df.show()"
      ],
      "metadata": {
        "colab": {
          "base_uri": "https://localhost:8080/"
        },
        "id": "BEglS8eRhr2L",
        "outputId": "46f7158d-5923-46a2-c15d-2f8454ffa0ac"
      },
      "execution_count": 12,
      "outputs": [
        {
          "output_type": "stream",
          "name": "stdout",
          "text": [
            "+---+----+-----+----+\n",
            "|rno|name|marks|rank|\n",
            "+---+----+-----+----+\n",
            "|  1|  AK|   78|  11|\n",
            "|  2|  BK|   76|  12|\n",
            "|  3|  CK|   56|  13|\n",
            "|  4|  DK|   79|  10|\n",
            "|  5|  EK|   89|   1|\n",
            "+---+----+-----+----+\n",
            "\n"
          ]
        }
      ]
    },
    {
      "cell_type": "code",
      "source": [
        "\n",
        "df.head(3)"
      ],
      "metadata": {
        "colab": {
          "base_uri": "https://localhost:8080/"
        },
        "id": "oqdWEikZiWWM",
        "outputId": "bb517a62-a8f5-4c10-c0b2-639320a47912"
      },
      "execution_count": 9,
      "outputs": [
        {
          "output_type": "execute_result",
          "data": {
            "text/plain": [
              "[Row(rno='1', name='AK', marks='78', rank='11'),\n",
              " Row(rno='2', name='BK', marks='76', rank='12'),\n",
              " Row(rno='3', name='CK', marks='56', rank='13')]"
            ]
          },
          "metadata": {},
          "execution_count": 9
        }
      ]
    },
    {
      "cell_type": "code",
      "source": [
        "df.printSchema()"
      ],
      "metadata": {
        "colab": {
          "base_uri": "https://localhost:8080/"
        },
        "id": "qQZZ1cOqiY1e",
        "outputId": "e520d812-2d60-47e5-b2b1-05b8df50737c"
      },
      "execution_count": 13,
      "outputs": [
        {
          "output_type": "stream",
          "name": "stdout",
          "text": [
            "root\n",
            " |-- rno: integer (nullable = true)\n",
            " |-- name: string (nullable = true)\n",
            " |-- marks: integer (nullable = true)\n",
            " |-- rank: integer (nullable = true)\n",
            "\n"
          ]
        }
      ]
    },
    {
      "cell_type": "code",
      "source": [
        "df.columns"
      ],
      "metadata": {
        "colab": {
          "base_uri": "https://localhost:8080/"
        },
        "id": "8NM-R4WVi2r9",
        "outputId": "c9e2f79f-9403-4d12-e57e-33b12ae3d6dc"
      },
      "execution_count": 16,
      "outputs": [
        {
          "output_type": "execute_result",
          "data": {
            "text/plain": [
              "['rno', 'name', 'marks', 'rank']"
            ]
          },
          "metadata": {},
          "execution_count": 16
        }
      ]
    },
    {
      "cell_type": "code",
      "source": [
        "df.select([\"name\",\"rno\"]).show()\n",
        "# upper can also be done this way\n",
        "# df.select(\"name\",\"rno\").show()"
      ],
      "metadata": {
        "colab": {
          "base_uri": "https://localhost:8080/"
        },
        "id": "wE1TtbO5lAhN",
        "outputId": "c20caa18-193a-47fb-b82b-ca13529dd499"
      },
      "execution_count": 23,
      "outputs": [
        {
          "output_type": "stream",
          "name": "stdout",
          "text": [
            "+----+---+\n",
            "|name|rno|\n",
            "+----+---+\n",
            "|  AK|  1|\n",
            "|  BK|  2|\n",
            "|  CK|  3|\n",
            "|  DK|  4|\n",
            "|  EK|  5|\n",
            "+----+---+\n",
            "\n"
          ]
        }
      ]
    },
    {
      "cell_type": "code",
      "source": [
        "df.dtypes"
      ],
      "metadata": {
        "colab": {
          "base_uri": "https://localhost:8080/"
        },
        "id": "SLbZCuh6jSn5",
        "outputId": "be0e8c93-af72-4840-d7d4-dd39e6d93de5"
      },
      "execution_count": 24,
      "outputs": [
        {
          "output_type": "execute_result",
          "data": {
            "text/plain": [
              "[('rno', 'int'), ('name', 'string'), ('marks', 'int'), ('rank', 'int')]"
            ]
          },
          "metadata": {},
          "execution_count": 24
        }
      ]
    },
    {
      "cell_type": "code",
      "source": [
        "df.describe().show()"
      ],
      "metadata": {
        "colab": {
          "base_uri": "https://localhost:8080/"
        },
        "id": "4X2jYHxll4Ea",
        "outputId": "3f684d74-2467-4c45-e6a9-6da59cb09086"
      },
      "execution_count": 25,
      "outputs": [
        {
          "output_type": "stream",
          "name": "stdout",
          "text": [
            "+-------+------------------+----+------------------+------------------+\n",
            "|summary|               rno|name|             marks|              rank|\n",
            "+-------+------------------+----+------------------+------------------+\n",
            "|  count|                 5|   5|                 5|                 5|\n",
            "|   mean|               3.0|null|              75.6|               9.4|\n",
            "| stddev|1.5811388300841898|null|12.054044964243332|4.8270073544588685|\n",
            "|    min|                 1|  AK|                56|                 1|\n",
            "|    max|                 5|  EK|                89|                13|\n",
            "+-------+------------------+----+------------------+------------------+\n",
            "\n"
          ]
        }
      ]
    },
    {
      "cell_type": "code",
      "source": [
        "# add column in dataframe\n",
        "df1=df.withColumn('updated result',df['rank']+2)\n",
        "df1.show()\n",
        "df.show()"
      ],
      "metadata": {
        "colab": {
          "base_uri": "https://localhost:8080/"
        },
        "id": "EtLqrWPhmD_5",
        "outputId": "2f1a7fd5-6fa2-4b84-9aa0-6ddb13c291f1"
      },
      "execution_count": 32,
      "outputs": [
        {
          "output_type": "stream",
          "name": "stdout",
          "text": [
            "+---+----+-----+----+--------------+\n",
            "|rno|name|marks|rank|updated result|\n",
            "+---+----+-----+----+--------------+\n",
            "|  1|  AK|   78|  11|            13|\n",
            "|  2|  BK|   76|  12|            14|\n",
            "|  3|  CK|   56|  13|            15|\n",
            "|  4|  DK|   79|  10|            12|\n",
            "|  5|  EK|   89|   1|             3|\n",
            "+---+----+-----+----+--------------+\n",
            "\n",
            "+---+----+-----+----+\n",
            "|rno|name|marks|rank|\n",
            "+---+----+-----+----+\n",
            "|  1|  AK|   78|  11|\n",
            "|  2|  BK|   76|  12|\n",
            "|  3|  CK|   56|  13|\n",
            "|  4|  DK|   79|  10|\n",
            "|  5|  EK|   89|   1|\n",
            "+---+----+-----+----+\n",
            "\n"
          ]
        }
      ]
    },
    {
      "cell_type": "code",
      "source": [
        "# drop column\n",
        "df1.drop('updated result').show()"
      ],
      "metadata": {
        "colab": {
          "base_uri": "https://localhost:8080/"
        },
        "id": "ChVD4ytAmxXb",
        "outputId": "32eadb7e-460f-4f8a-f17c-fde1cd490013"
      },
      "execution_count": 33,
      "outputs": [
        {
          "output_type": "stream",
          "name": "stdout",
          "text": [
            "+---+----+-----+----+\n",
            "|rno|name|marks|rank|\n",
            "+---+----+-----+----+\n",
            "|  1|  AK|   78|  11|\n",
            "|  2|  BK|   76|  12|\n",
            "|  3|  CK|   56|  13|\n",
            "|  4|  DK|   79|  10|\n",
            "|  5|  EK|   89|   1|\n",
            "+---+----+-----+----+\n",
            "\n"
          ]
        }
      ]
    },
    {
      "cell_type": "code",
      "source": [
        "# rename column\n",
        "df2=df.withColumnRenamed('name','Name')\n",
        "df2.show()\n",
        "df.show()"
      ],
      "metadata": {
        "colab": {
          "base_uri": "https://localhost:8080/"
        },
        "id": "f7FcPUOdnK7a",
        "outputId": "f5e20a79-7006-415b-e53c-c26bed34d454"
      },
      "execution_count": 38,
      "outputs": [
        {
          "output_type": "stream",
          "name": "stdout",
          "text": [
            "+---+----+-----+----+\n",
            "|rno|Name|marks|rank|\n",
            "+---+----+-----+----+\n",
            "|  1|  AK|   78|  11|\n",
            "|  2|  BK|   76|  12|\n",
            "|  3|  CK|   56|  13|\n",
            "|  4|  DK|   79|  10|\n",
            "|  5|  EK|   89|   1|\n",
            "+---+----+-----+----+\n",
            "\n",
            "+---+----+-----+----+\n",
            "|rno|name|marks|rank|\n",
            "+---+----+-----+----+\n",
            "|  1|  AK|   78|  11|\n",
            "|  2|  BK|   76|  12|\n",
            "|  3|  CK|   56|  13|\n",
            "|  4|  DK|   79|  10|\n",
            "|  5|  EK|   89|   1|\n",
            "+---+----+-----+----+\n",
            "\n"
          ]
        }
      ]
    },
    {
      "cell_type": "code",
      "source": [
        "# drop row\n",
        "df.na.drop().show() \n",
        "# this will help in check if any null value in row is present and drop that row null\n"
      ],
      "metadata": {
        "colab": {
          "base_uri": "https://localhost:8080/"
        },
        "id": "OaF66q5Mn4tP",
        "outputId": "e0eb8661-7a1f-462e-dd4a-af9c7312fd33"
      },
      "execution_count": 39,
      "outputs": [
        {
          "output_type": "stream",
          "name": "stdout",
          "text": [
            "+---+----+-----+----+\n",
            "|rno|name|marks|rank|\n",
            "+---+----+-----+----+\n",
            "|  1|  AK|   78|  11|\n",
            "|  2|  BK|   76|  12|\n",
            "|  3|  CK|   56|  13|\n",
            "|  4|  DK|   79|  10|\n",
            "|  5|  EK|   89|   1|\n",
            "+---+----+-----+----+\n",
            "\n"
          ]
        }
      ]
    },
    {
      "cell_type": "code",
      "source": [
        "# fill any misssing value\n",
        "df.na.fill(\"missing value\").show()\n",
        "# this will fill any nullvalue with typed \"missing value\"\n",
        "# we can also try using this in any prticular olun as well\n",
        "# like this\n",
        "# df.na.fill('missing value',['rno','name']).show()    \n",
        "# in this way it will implement only for these two coluns"
      ],
      "metadata": {
        "colab": {
          "base_uri": "https://localhost:8080/"
        },
        "id": "YmikXP16paQC",
        "outputId": "83c6e7da-19ca-451b-8a8e-3e33b71c496d"
      },
      "execution_count": 40,
      "outputs": [
        {
          "output_type": "stream",
          "name": "stdout",
          "text": [
            "+---+----+-----+----+\n",
            "|rno|name|marks|rank|\n",
            "+---+----+-----+----+\n",
            "|  1|  AK|   78|  11|\n",
            "|  2|  BK|   76|  12|\n",
            "|  3|  CK|   56|  13|\n",
            "|  4|  DK|   79|  10|\n",
            "|  5|  EK|   89|   1|\n",
            "+---+----+-----+----+\n",
            "\n"
          ]
        }
      ]
    },
    {
      "cell_type": "code",
      "source": [
        "# filter operations\n",
        "# marks>=76\n",
        "df3=df.filter(\"marks>=76\")\n",
        "df3.show()\n",
        "df4=df.filter(\"marks>76\").select([\"name\",'rno'])\n",
        "df4.show()\n"
      ],
      "metadata": {
        "colab": {
          "base_uri": "https://localhost:8080/"
        },
        "id": "zqgE5Iu1rL6Q",
        "outputId": "898ea874-eb1c-4984-c294-6351b526d4f6"
      },
      "execution_count": 42,
      "outputs": [
        {
          "output_type": "stream",
          "name": "stdout",
          "text": [
            "+---+----+-----+----+\n",
            "|rno|name|marks|rank|\n",
            "+---+----+-----+----+\n",
            "|  1|  AK|   78|  11|\n",
            "|  2|  BK|   76|  12|\n",
            "|  4|  DK|   79|  10|\n",
            "|  5|  EK|   89|   1|\n",
            "+---+----+-----+----+\n",
            "\n",
            "+----+---+\n",
            "|name|rno|\n",
            "+----+---+\n",
            "|  AK|  1|\n",
            "|  DK|  4|\n",
            "|  EK|  5|\n",
            "+----+---+\n",
            "\n"
          ]
        }
      ]
    },
    {
      "cell_type": "code",
      "source": [
        "df4=df.filter((df['marks']<68) & (df[\"marks\"]>50))\n",
        "df4.show()"
      ],
      "metadata": {
        "colab": {
          "base_uri": "https://localhost:8080/"
        },
        "id": "psZI_f8s01WZ",
        "outputId": "e492e2e5-e71f-4ebe-ad22-f35169979eb9"
      },
      "execution_count": 46,
      "outputs": [
        {
          "output_type": "stream",
          "name": "stdout",
          "text": [
            "+---+----+-----+----+\n",
            "|rno|name|marks|rank|\n",
            "+---+----+-----+----+\n",
            "|  3|  CK|   56|  13|\n",
            "+---+----+-----+----+\n",
            "\n"
          ]
        }
      ]
    },
    {
      "cell_type": "code",
      "source": [
        "# group by\n",
        "df.groupBy('name').mean().show()\n",
        "df.groupBy('name').count().show()"
      ],
      "metadata": {
        "colab": {
          "base_uri": "https://localhost:8080/"
        },
        "id": "NpvLQ-JZ1bcV",
        "outputId": "a9aba886-85cb-44ec-bd72-60002ead3684"
      },
      "execution_count": 51,
      "outputs": [
        {
          "output_type": "stream",
          "name": "stdout",
          "text": [
            "+----+--------+----------+---------+\n",
            "|name|avg(rno)|avg(marks)|avg(rank)|\n",
            "+----+--------+----------+---------+\n",
            "|  EK|     5.0|      89.0|      1.0|\n",
            "|  CK|     3.0|      56.0|     13.0|\n",
            "|  BK|     2.0|      76.0|     12.0|\n",
            "|  AK|     1.0|      78.0|     11.0|\n",
            "|  DK|     4.0|      79.0|     10.0|\n",
            "+----+--------+----------+---------+\n",
            "\n",
            "+----+-----+\n",
            "|name|count|\n",
            "+----+-----+\n",
            "|  EK|    1|\n",
            "|  CK|    1|\n",
            "|  BK|    1|\n",
            "|  AK|    1|\n",
            "|  DK|    1|\n",
            "+----+-----+\n",
            "\n"
          ]
        }
      ]
    },
    {
      "cell_type": "code",
      "source": [
        ""
      ],
      "metadata": {
        "id": "L2si9n252gzx"
      },
      "execution_count": null,
      "outputs": []
    }
  ]
}